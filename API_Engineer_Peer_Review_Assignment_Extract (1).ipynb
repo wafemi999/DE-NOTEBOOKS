{
 "cells": [
  {
   "cell_type": "markdown",
   "metadata": {},
   "source": [
    "<p style=\"text-align:center\">\n",
    "    <a href=\"https://skills.network/?utm_medium=Exinfluencer&utm_source=Exinfluencer&utm_content=000026UJ&utm_term=10006555&utm_id=NA-SkillsNetwork-Channel-SkillsNetworkCoursesIBMDeveloperSkillsNetworkPY0221ENSkillsNetwork23455645-2022-01-01\" target=\"_blank\">\n",
    "    <img src=\"https://cf-courses-data.s3.us.cloud-object-storage.appdomain.cloud/assets/logos/SN_web_lightmode.png\" width=\"200\" alt=\"Skills Network Logo\"  />\n",
    "    </a>\n",
    "</p>\n"
   ]
  },
  {
   "cell_type": "markdown",
   "metadata": {},
   "source": [
    "# Peer Review Assignment - Data Engineer - Extract API Data\n"
   ]
  },
  {
   "cell_type": "markdown",
   "metadata": {},
   "source": [
    "Estimated time needed: **20** minutes\n"
   ]
  },
  {
   "cell_type": "markdown",
   "metadata": {},
   "source": [
    "## Objectives\n",
    "\n",
    "In this part you will:\n",
    "\n",
    "*   Collect exchange rate data using an API\n",
    "*   Store the data as a CSV\n"
   ]
  },
  {
   "cell_type": "markdown",
   "metadata": {},
   "source": [
    "For this lab, we are going to be using Python and several Python libraries. Some of these libraries might be installed in your lab environment or in SN Labs. Others may need to be installed by you. The cells below will install these libraries when executed.\n"
   ]
  },
  {
   "cell_type": "code",
   "execution_count": 1,
   "metadata": {},
   "outputs": [],
   "source": [
    "#!mamba install pandas==1.3.3 -y\n",
    "#!mamba install requests==2.26.0 -y"
   ]
  },
  {
   "cell_type": "markdown",
   "metadata": {},
   "source": [
    "## Imports\n",
    "\n",
    "Import any additional libraries you may need here.\n"
   ]
  },
  {
   "cell_type": "code",
   "execution_count": 19,
   "metadata": {},
   "outputs": [],
   "source": [
    "import requests\n",
    "import pandas as pd\n",
    "import json"
   ]
  },
  {
   "cell_type": "markdown",
   "metadata": {},
   "source": [
    "## Extract Data Using an API\n"
   ]
  },
  {
   "cell_type": "markdown",
   "metadata": {},
   "source": [
    "Using ExchangeRate-API we will extract currency exchange rate data. Use the below steps to get the access key and to get the data.\n",
    "\n",
    "1.  Open the url : [https://exchangeratesapi.io/](https://exchangeratesapi.io/?utm_medium=Exinfluencer&utm_source=Exinfluencer&utm_content=000026UJ&utm_term=10006555&utm_id=NA-SkillsNetwork-Channel-SkillsNetworkCoursesIBMDeveloperSkillsNetworkPY0221ENSkillsNetwork23455645-2022-01-01) and click on **Get Free API Key**.\n",
    "2.  Subscribe for Free plan and Sign-in with the Google Account.\n",
    "3.  Once the account is created you will be redirected to [https://apilayer.com](https://apilayer.com/?utm_medium=Exinfluencer&utm_source=Exinfluencer&utm_content=000026UJ&utm_term=10006555&utm_id=NA-SkillsNetwork-Channel-SkillsNetworkCoursesIBMDeveloperSkillsNetworkPY0221ENSkillsNetwork23455645-2022-01-01) website.\n",
    "4.  Now, click on the **user icon** and click **Account** as shown below:\n",
    "\n",
    "<img src=\"https://cf-courses-data.s3.us.cloud-object-storage.appdomain.cloud/IBMDeveloperSkillsNetwork-PY0221EN-SkillsNetwork/labs/module%206/Final%20Assignment/Images/account.png\"/>\n",
    "\n",
    "3.  Scroll down and you will get the API Key section. Copy the API key and use in the url in Question 1.\n"
   ]
  },
  {
   "cell_type": "markdown",
   "metadata": {},
   "source": [
    "### Call the API\n",
    "\n",
    "<b> Question 1</b> Using the `requests` library call the endpoint given above and save the text, remember the first few characters of the output:\n"
   ]
  },
  {
   "cell_type": "code",
   "execution_count": 21,
   "metadata": {},
   "outputs": [
    {
     "data": {
      "text/plain": [
       "{'success': True,\n",
       " 'timestamp': 1664381164,\n",
       " 'base': 'EUR',\n",
       " 'date': '2022-09-28',\n",
       " 'rates': {'AED': 3.561465,\n",
       "  'AFN': 85.325266,\n",
       "  'ALL': 116.936993,\n",
       "  'AMD': 395.638474,\n",
       "  'ANG': 1.750683,\n",
       "  'AOA': 419.710621,\n",
       "  'ARS': 142.384283,\n",
       "  'AUD': 1.488498,\n",
       "  'AWG': 1.745294,\n",
       "  'AZN': 1.645678,\n",
       "  'BAM': 1.984344,\n",
       "  'BBD': 1.961323,\n",
       "  'BDT': 99.594694,\n",
       "  'BGN': 1.955213,\n",
       "  'BHD': 0.365786,\n",
       "  'BIF': 1985.27166,\n",
       "  'BMD': 0.969608,\n",
       "  'BND': 1.40467,\n",
       "  'BOB': 6.712391,\n",
       "  'BRL': 5.189729,\n",
       "  'BSD': 0.971378,\n",
       "  'BTC': 4.9651816e-05,\n",
       "  'BTN': 79.563883,\n",
       "  'BWP': 13.021717,\n",
       "  'BYN': 2.452377,\n",
       "  'BYR': 19004.309906,\n",
       "  'BZD': 1.958056,\n",
       "  'CAD': 1.322433,\n",
       "  'CDF': 1985.756386,\n",
       "  'CHF': 0.945751,\n",
       "  'CLF': 0.033713,\n",
       "  'CLP': 929.853477,\n",
       "  'CNY': 6.981658,\n",
       "  'COP': 4346.760783,\n",
       "  'CRC': 615.189399,\n",
       "  'CUC': 0.969608,\n",
       "  'CUP': 25.694603,\n",
       "  'CVE': 111.383684,\n",
       "  'CZK': 24.646461,\n",
       "  'DJF': 172.938585,\n",
       "  'DKK': 7.435873,\n",
       "  'DOP': 51.784839,\n",
       "  'DZD': 138.047464,\n",
       "  'EGP': 18.940297,\n",
       "  'ERN': 14.544115,\n",
       "  'ETB': 50.952988,\n",
       "  'EUR': 1,\n",
       "  'FJD': 2.222389,\n",
       "  'FKP': 0.838319,\n",
       "  'GBP': 0.893358,\n",
       "  'GEL': 2.748863,\n",
       "  'GGP': 0.838319,\n",
       "  'GHS': 10.035256,\n",
       "  'GIP': 0.838319,\n",
       "  'GMD': 53.691975,\n",
       "  'GNF': 8479.219146,\n",
       "  'GTQ': 7.622143,\n",
       "  'GYD': 203.233481,\n",
       "  'HKD': 7.611202,\n",
       "  'HNL': 23.891384,\n",
       "  'HRK': 7.532111,\n",
       "  'HTG': 118.025782,\n",
       "  'HUF': 413.171135,\n",
       "  'IDR': 14740.557234,\n",
       "  'ILS': 3.420936,\n",
       "  'IMP': 0.838319,\n",
       "  'INR': 79.015558,\n",
       "  'IQD': 1416.596774,\n",
       "  'IRR': 41062.883641,\n",
       "  'ISK': 140.08901,\n",
       "  'JEP': 0.838319,\n",
       "  'JMD': 147.396271,\n",
       "  'JOD': 0.687446,\n",
       "  'JPY': 139.7287,\n",
       "  'KES': 117.07999,\n",
       "  'KGS': 77.827401,\n",
       "  'KHR': 4001.570687,\n",
       "  'KMF': 497.626868,\n",
       "  'KPW': 872.646927,\n",
       "  'KRW': 1382.801118,\n",
       "  'KWD': 0.300872,\n",
       "  'KYD': 0.809439,\n",
       "  'KZT': 463.514755,\n",
       "  'LAK': 15964.589879,\n",
       "  'LBP': 1470.894433,\n",
       "  'LKR': 353.5781,\n",
       "  'LRD': 148.838054,\n",
       "  'LSL': 17.462391,\n",
       "  'LTL': 2.863,\n",
       "  'LVL': 0.586506,\n",
       "  'LYD': 4.896629,\n",
       "  'MAD': 10.740831,\n",
       "  'MDL': 18.990982,\n",
       "  'MGA': 4047.142342,\n",
       "  'MKD': 62.514912,\n",
       "  'MMK': 2039.883477,\n",
       "  'MNT': 3126.443679,\n",
       "  'MOP': 7.853915,\n",
       "  'MRO': 346.149764,\n",
       "  'MUR': 43.966039,\n",
       "  'MVR': 14.99001,\n",
       "  'MWK': 993.847699,\n",
       "  'MXN': 19.676257,\n",
       "  'MYR': 4.470837,\n",
       "  'MZN': 61.890435,\n",
       "  'NAD': 17.462752,\n",
       "  'NGN': 418.220789,\n",
       "  'NIO': 34.886405,\n",
       "  'NOK': 10.382244,\n",
       "  'NPR': 127.299589,\n",
       "  'NZD': 1.698995,\n",
       "  'OMR': 0.373242,\n",
       "  'PAB': 0.971373,\n",
       "  'PEN': 3.828492,\n",
       "  'PGK': 3.412877,\n",
       "  'PHP': 57.055109,\n",
       "  'PKR': 229.554472,\n",
       "  'PLN': 4.810275,\n",
       "  'PYG': 6825.889307,\n",
       "  'QAR': 3.530308,\n",
       "  'RON': 4.948006,\n",
       "  'RSD': 117.254535,\n",
       "  'RUB': 56.673641,\n",
       "  'RWF': 1009.361562,\n",
       "  'SAR': 3.652097,\n",
       "  'SBD': 7.915296,\n",
       "  'SCR': 13.93335,\n",
       "  'SDG': 559.949073,\n",
       "  'SEK': 10.865312,\n",
       "  'SGD': 1.393011,\n",
       "  'SHP': 1.335535,\n",
       "  'SLL': 14786.516295,\n",
       "  'SOS': 551.706455,\n",
       "  'SRD': 27.417111,\n",
       "  'STD': 20068.920689,\n",
       "  'SVC': 8.49926,\n",
       "  'SYP': 2436.168612,\n",
       "  'SZL': 17.462749,\n",
       "  'THB': 36.790832,\n",
       "  'TJS': 9.54449,\n",
       "  'TMT': 3.403323,\n",
       "  'TND': 3.219123,\n",
       "  'TOP': 2.360804,\n",
       "  'TRY': 17.952768,\n",
       "  'TTD': 6.593582,\n",
       "  'TWD': 30.774866,\n",
       "  'TZS': 2265.328315,\n",
       "  'UAH': 35.700819,\n",
       "  'UGX': 3765.141533,\n",
       "  'USD': 0.969608,\n",
       "  'UYU': 40.017261,\n",
       "  'UZS': 10702.042218,\n",
       "  'VND': 23018.48557,\n",
       "  'VUV': 115.346346,\n",
       "  'WST': 2.642741,\n",
       "  'XAF': 665.513139,\n",
       "  'XAG': 0.051605,\n",
       "  'XAU': 0.000584,\n",
       "  'XCD': 2.620413,\n",
       "  'XDR': 0.763771,\n",
       "  'XOF': 658.842985,\n",
       "  'XPF': 120.570564,\n",
       "  'YER': 242.740966,\n",
       "  'ZAR': 17.300661,\n",
       "  'ZMK': 8727.634025,\n",
       "  'ZMW': 15.299502,\n",
       "  'ZWL': 312.213267}}"
      ]
     },
     "execution_count": 21,
     "metadata": {},
     "output_type": "execute_result"
    }
   ],
   "source": [
    "# Write your code here\n",
    "url = \"https://api.apilayer.com/exchangerates_data/latest?base=EUR&apikey=L23lGqAhx6ZKV7vRJJi7rvjT0e0U6JGL\" #Make sure to change ******* to your API key.\n",
    "\n",
    "r = requests.get(url)\n",
    "data = json.loads(r.text)\n",
    "data\n"
   ]
  },
  {
   "cell_type": "markdown",
   "metadata": {},
   "source": [
    "### Save as DataFrame\n",
    "\n",
    "<b> Question 2</b>  Using the data gathered turn it into a `pandas` dataframe. The dataframe should have the Currency as the index and `Rate` as their columns. Make sure to drop unnecessary columns.\n"
   ]
  },
  {
   "cell_type": "code",
   "execution_count": 25,
   "metadata": {},
   "outputs": [
    {
     "data": {
      "text/html": [
       "<div>\n",
       "<style scoped>\n",
       "    .dataframe tbody tr th:only-of-type {\n",
       "        vertical-align: middle;\n",
       "    }\n",
       "\n",
       "    .dataframe tbody tr th {\n",
       "        vertical-align: top;\n",
       "    }\n",
       "\n",
       "    .dataframe thead th {\n",
       "        text-align: right;\n",
       "    }\n",
       "</style>\n",
       "<table border=\"1\" class=\"dataframe\">\n",
       "  <thead>\n",
       "    <tr style=\"text-align: right;\">\n",
       "      <th></th>\n",
       "      <th>success</th>\n",
       "      <th>timestamp</th>\n",
       "      <th>base</th>\n",
       "      <th>date</th>\n",
       "      <th>rates</th>\n",
       "    </tr>\n",
       "  </thead>\n",
       "  <tbody>\n",
       "    <tr>\n",
       "      <th>AED</th>\n",
       "      <td>True</td>\n",
       "      <td>1664381164</td>\n",
       "      <td>EUR</td>\n",
       "      <td>2022-09-28</td>\n",
       "      <td>3.561465</td>\n",
       "    </tr>\n",
       "    <tr>\n",
       "      <th>AFN</th>\n",
       "      <td>True</td>\n",
       "      <td>1664381164</td>\n",
       "      <td>EUR</td>\n",
       "      <td>2022-09-28</td>\n",
       "      <td>85.325266</td>\n",
       "    </tr>\n",
       "    <tr>\n",
       "      <th>ALL</th>\n",
       "      <td>True</td>\n",
       "      <td>1664381164</td>\n",
       "      <td>EUR</td>\n",
       "      <td>2022-09-28</td>\n",
       "      <td>116.936993</td>\n",
       "    </tr>\n",
       "    <tr>\n",
       "      <th>AMD</th>\n",
       "      <td>True</td>\n",
       "      <td>1664381164</td>\n",
       "      <td>EUR</td>\n",
       "      <td>2022-09-28</td>\n",
       "      <td>395.638474</td>\n",
       "    </tr>\n",
       "    <tr>\n",
       "      <th>ANG</th>\n",
       "      <td>True</td>\n",
       "      <td>1664381164</td>\n",
       "      <td>EUR</td>\n",
       "      <td>2022-09-28</td>\n",
       "      <td>1.750683</td>\n",
       "    </tr>\n",
       "    <tr>\n",
       "      <th>...</th>\n",
       "      <td>...</td>\n",
       "      <td>...</td>\n",
       "      <td>...</td>\n",
       "      <td>...</td>\n",
       "      <td>...</td>\n",
       "    </tr>\n",
       "    <tr>\n",
       "      <th>YER</th>\n",
       "      <td>True</td>\n",
       "      <td>1664381164</td>\n",
       "      <td>EUR</td>\n",
       "      <td>2022-09-28</td>\n",
       "      <td>242.740966</td>\n",
       "    </tr>\n",
       "    <tr>\n",
       "      <th>ZAR</th>\n",
       "      <td>True</td>\n",
       "      <td>1664381164</td>\n",
       "      <td>EUR</td>\n",
       "      <td>2022-09-28</td>\n",
       "      <td>17.300661</td>\n",
       "    </tr>\n",
       "    <tr>\n",
       "      <th>ZMK</th>\n",
       "      <td>True</td>\n",
       "      <td>1664381164</td>\n",
       "      <td>EUR</td>\n",
       "      <td>2022-09-28</td>\n",
       "      <td>8727.634025</td>\n",
       "    </tr>\n",
       "    <tr>\n",
       "      <th>ZMW</th>\n",
       "      <td>True</td>\n",
       "      <td>1664381164</td>\n",
       "      <td>EUR</td>\n",
       "      <td>2022-09-28</td>\n",
       "      <td>15.299502</td>\n",
       "    </tr>\n",
       "    <tr>\n",
       "      <th>ZWL</th>\n",
       "      <td>True</td>\n",
       "      <td>1664381164</td>\n",
       "      <td>EUR</td>\n",
       "      <td>2022-09-28</td>\n",
       "      <td>312.213267</td>\n",
       "    </tr>\n",
       "  </tbody>\n",
       "</table>\n",
       "<p>167 rows × 5 columns</p>\n",
       "</div>"
      ],
      "text/plain": [
       "     success   timestamp base        date        rates\n",
       "AED     True  1664381164  EUR  2022-09-28     3.561465\n",
       "AFN     True  1664381164  EUR  2022-09-28    85.325266\n",
       "ALL     True  1664381164  EUR  2022-09-28   116.936993\n",
       "AMD     True  1664381164  EUR  2022-09-28   395.638474\n",
       "ANG     True  1664381164  EUR  2022-09-28     1.750683\n",
       "..       ...         ...  ...         ...          ...\n",
       "YER     True  1664381164  EUR  2022-09-28   242.740966\n",
       "ZAR     True  1664381164  EUR  2022-09-28    17.300661\n",
       "ZMK     True  1664381164  EUR  2022-09-28  8727.634025\n",
       "ZMW     True  1664381164  EUR  2022-09-28    15.299502\n",
       "ZWL     True  1664381164  EUR  2022-09-28   312.213267\n",
       "\n",
       "[167 rows x 5 columns]"
      ]
     },
     "execution_count": 25,
     "metadata": {},
     "output_type": "execute_result"
    }
   ],
   "source": [
    "# Turn the data into a dataframe\n",
    "data2 = pd.DataFrame(data)\n",
    " \n",
    "data2"
   ]
  },
  {
   "cell_type": "code",
   "execution_count": 26,
   "metadata": {},
   "outputs": [
    {
     "data": {
      "text/html": [
       "<div>\n",
       "<style scoped>\n",
       "    .dataframe tbody tr th:only-of-type {\n",
       "        vertical-align: middle;\n",
       "    }\n",
       "\n",
       "    .dataframe tbody tr th {\n",
       "        vertical-align: top;\n",
       "    }\n",
       "\n",
       "    .dataframe thead th {\n",
       "        text-align: right;\n",
       "    }\n",
       "</style>\n",
       "<table border=\"1\" class=\"dataframe\">\n",
       "  <thead>\n",
       "    <tr style=\"text-align: right;\">\n",
       "      <th></th>\n",
       "      <th>rates</th>\n",
       "    </tr>\n",
       "  </thead>\n",
       "  <tbody>\n",
       "    <tr>\n",
       "      <th>AED</th>\n",
       "      <td>3.561465</td>\n",
       "    </tr>\n",
       "    <tr>\n",
       "      <th>AFN</th>\n",
       "      <td>85.325266</td>\n",
       "    </tr>\n",
       "    <tr>\n",
       "      <th>ALL</th>\n",
       "      <td>116.936993</td>\n",
       "    </tr>\n",
       "    <tr>\n",
       "      <th>AMD</th>\n",
       "      <td>395.638474</td>\n",
       "    </tr>\n",
       "    <tr>\n",
       "      <th>ANG</th>\n",
       "      <td>1.750683</td>\n",
       "    </tr>\n",
       "    <tr>\n",
       "      <th>...</th>\n",
       "      <td>...</td>\n",
       "    </tr>\n",
       "    <tr>\n",
       "      <th>YER</th>\n",
       "      <td>242.740966</td>\n",
       "    </tr>\n",
       "    <tr>\n",
       "      <th>ZAR</th>\n",
       "      <td>17.300661</td>\n",
       "    </tr>\n",
       "    <tr>\n",
       "      <th>ZMK</th>\n",
       "      <td>8727.634025</td>\n",
       "    </tr>\n",
       "    <tr>\n",
       "      <th>ZMW</th>\n",
       "      <td>15.299502</td>\n",
       "    </tr>\n",
       "    <tr>\n",
       "      <th>ZWL</th>\n",
       "      <td>312.213267</td>\n",
       "    </tr>\n",
       "  </tbody>\n",
       "</table>\n",
       "<p>167 rows × 1 columns</p>\n",
       "</div>"
      ],
      "text/plain": [
       "           rates\n",
       "AED     3.561465\n",
       "AFN    85.325266\n",
       "ALL   116.936993\n",
       "AMD   395.638474\n",
       "ANG     1.750683\n",
       "..           ...\n",
       "YER   242.740966\n",
       "ZAR    17.300661\n",
       "ZMK  8727.634025\n",
       "ZMW    15.299502\n",
       "ZWL   312.213267\n",
       "\n",
       "[167 rows x 1 columns]"
      ]
     },
     "execution_count": 26,
     "metadata": {},
     "output_type": "execute_result"
    }
   ],
   "source": [
    "# Drop unnescessary columns\n",
    "data2.drop(columns=[\"success\", \"timestamp\", \"base\",\"date\"])"
   ]
  },
  {
   "cell_type": "markdown",
   "metadata": {},
   "source": [
    "### Load the Data\n",
    "\n",
    "Using the dataframe save it as a CSV names `exchange_rates_1.csv`.\n"
   ]
  },
  {
   "cell_type": "code",
   "execution_count": 30,
   "metadata": {},
   "outputs": [
    {
     "data": {
      "text/plain": [
       "'{\"success\":{\"AED\":true,\"AFN\":true,\"ALL\":true,\"AMD\":true,\"ANG\":true,\"AOA\":true,\"ARS\":true,\"AUD\":true,\"AWG\":true,\"AZN\":true,\"BAM\":true,\"BBD\":true,\"BDT\":true,\"BGN\":true,\"BHD\":true,\"BIF\":true,\"BMD\":true,\"BND\":true,\"BOB\":true,\"BRL\":true,\"BSD\":true,\"BTC\":true,\"BTN\":true,\"BWP\":true,\"BYN\":true,\"BYR\":true,\"BZD\":true,\"CAD\":true,\"CDF\":true,\"CHF\":true,\"CLF\":true,\"CLP\":true,\"CNY\":true,\"COP\":true,\"CRC\":true,\"CUC\":true,\"CUP\":true,\"CVE\":true,\"CZK\":true,\"DJF\":true,\"DKK\":true,\"DOP\":true,\"DZD\":true,\"EGP\":true,\"ERN\":true,\"ETB\":true,\"EUR\":true,\"FJD\":true,\"FKP\":true,\"GBP\":true,\"GEL\":true,\"GGP\":true,\"GHS\":true,\"GIP\":true,\"GMD\":true,\"GNF\":true,\"GTQ\":true,\"GYD\":true,\"HKD\":true,\"HNL\":true,\"HRK\":true,\"HTG\":true,\"HUF\":true,\"IDR\":true,\"ILS\":true,\"IMP\":true,\"INR\":true,\"IQD\":true,\"IRR\":true,\"ISK\":true,\"JEP\":true,\"JMD\":true,\"JOD\":true,\"JPY\":true,\"KES\":true,\"KGS\":true,\"KHR\":true,\"KMF\":true,\"KPW\":true,\"KRW\":true,\"KWD\":true,\"KYD\":true,\"KZT\":true,\"LAK\":true,\"LBP\":true,\"LKR\":true,\"LRD\":true,\"LSL\":true,\"LTL\":true,\"LVL\":true,\"LYD\":true,\"MAD\":true,\"MDL\":true,\"MGA\":true,\"MKD\":true,\"MMK\":true,\"MNT\":true,\"MOP\":true,\"MRO\":true,\"MUR\":true,\"MVR\":true,\"MWK\":true,\"MXN\":true,\"MYR\":true,\"MZN\":true,\"NAD\":true,\"NGN\":true,\"NIO\":true,\"NOK\":true,\"NPR\":true,\"NZD\":true,\"OMR\":true,\"PAB\":true,\"PEN\":true,\"PGK\":true,\"PHP\":true,\"PKR\":true,\"PLN\":true,\"PYG\":true,\"QAR\":true,\"RON\":true,\"RSD\":true,\"RUB\":true,\"RWF\":true,\"SAR\":true,\"SBD\":true,\"SCR\":true,\"SDG\":true,\"SEK\":true,\"SGD\":true,\"SHP\":true,\"SLL\":true,\"SOS\":true,\"SRD\":true,\"STD\":true,\"SVC\":true,\"SYP\":true,\"SZL\":true,\"THB\":true,\"TJS\":true,\"TMT\":true,\"TND\":true,\"TOP\":true,\"TRY\":true,\"TTD\":true,\"TWD\":true,\"TZS\":true,\"UAH\":true,\"UGX\":true,\"USD\":true,\"UYU\":true,\"UZS\":true,\"VND\":true,\"VUV\":true,\"WST\":true,\"XAF\":true,\"XAG\":true,\"XAU\":true,\"XCD\":true,\"XDR\":true,\"XOF\":true,\"XPF\":true,\"YER\":true,\"ZAR\":true,\"ZMK\":true,\"ZMW\":true,\"ZWL\":true},\"timestamp\":{\"AED\":1664381164,\"AFN\":1664381164,\"ALL\":1664381164,\"AMD\":1664381164,\"ANG\":1664381164,\"AOA\":1664381164,\"ARS\":1664381164,\"AUD\":1664381164,\"AWG\":1664381164,\"AZN\":1664381164,\"BAM\":1664381164,\"BBD\":1664381164,\"BDT\":1664381164,\"BGN\":1664381164,\"BHD\":1664381164,\"BIF\":1664381164,\"BMD\":1664381164,\"BND\":1664381164,\"BOB\":1664381164,\"BRL\":1664381164,\"BSD\":1664381164,\"BTC\":1664381164,\"BTN\":1664381164,\"BWP\":1664381164,\"BYN\":1664381164,\"BYR\":1664381164,\"BZD\":1664381164,\"CAD\":1664381164,\"CDF\":1664381164,\"CHF\":1664381164,\"CLF\":1664381164,\"CLP\":1664381164,\"CNY\":1664381164,\"COP\":1664381164,\"CRC\":1664381164,\"CUC\":1664381164,\"CUP\":1664381164,\"CVE\":1664381164,\"CZK\":1664381164,\"DJF\":1664381164,\"DKK\":1664381164,\"DOP\":1664381164,\"DZD\":1664381164,\"EGP\":1664381164,\"ERN\":1664381164,\"ETB\":1664381164,\"EUR\":1664381164,\"FJD\":1664381164,\"FKP\":1664381164,\"GBP\":1664381164,\"GEL\":1664381164,\"GGP\":1664381164,\"GHS\":1664381164,\"GIP\":1664381164,\"GMD\":1664381164,\"GNF\":1664381164,\"GTQ\":1664381164,\"GYD\":1664381164,\"HKD\":1664381164,\"HNL\":1664381164,\"HRK\":1664381164,\"HTG\":1664381164,\"HUF\":1664381164,\"IDR\":1664381164,\"ILS\":1664381164,\"IMP\":1664381164,\"INR\":1664381164,\"IQD\":1664381164,\"IRR\":1664381164,\"ISK\":1664381164,\"JEP\":1664381164,\"JMD\":1664381164,\"JOD\":1664381164,\"JPY\":1664381164,\"KES\":1664381164,\"KGS\":1664381164,\"KHR\":1664381164,\"KMF\":1664381164,\"KPW\":1664381164,\"KRW\":1664381164,\"KWD\":1664381164,\"KYD\":1664381164,\"KZT\":1664381164,\"LAK\":1664381164,\"LBP\":1664381164,\"LKR\":1664381164,\"LRD\":1664381164,\"LSL\":1664381164,\"LTL\":1664381164,\"LVL\":1664381164,\"LYD\":1664381164,\"MAD\":1664381164,\"MDL\":1664381164,\"MGA\":1664381164,\"MKD\":1664381164,\"MMK\":1664381164,\"MNT\":1664381164,\"MOP\":1664381164,\"MRO\":1664381164,\"MUR\":1664381164,\"MVR\":1664381164,\"MWK\":1664381164,\"MXN\":1664381164,\"MYR\":1664381164,\"MZN\":1664381164,\"NAD\":1664381164,\"NGN\":1664381164,\"NIO\":1664381164,\"NOK\":1664381164,\"NPR\":1664381164,\"NZD\":1664381164,\"OMR\":1664381164,\"PAB\":1664381164,\"PEN\":1664381164,\"PGK\":1664381164,\"PHP\":1664381164,\"PKR\":1664381164,\"PLN\":1664381164,\"PYG\":1664381164,\"QAR\":1664381164,\"RON\":1664381164,\"RSD\":1664381164,\"RUB\":1664381164,\"RWF\":1664381164,\"SAR\":1664381164,\"SBD\":1664381164,\"SCR\":1664381164,\"SDG\":1664381164,\"SEK\":1664381164,\"SGD\":1664381164,\"SHP\":1664381164,\"SLL\":1664381164,\"SOS\":1664381164,\"SRD\":1664381164,\"STD\":1664381164,\"SVC\":1664381164,\"SYP\":1664381164,\"SZL\":1664381164,\"THB\":1664381164,\"TJS\":1664381164,\"TMT\":1664381164,\"TND\":1664381164,\"TOP\":1664381164,\"TRY\":1664381164,\"TTD\":1664381164,\"TWD\":1664381164,\"TZS\":1664381164,\"UAH\":1664381164,\"UGX\":1664381164,\"USD\":1664381164,\"UYU\":1664381164,\"UZS\":1664381164,\"VND\":1664381164,\"VUV\":1664381164,\"WST\":1664381164,\"XAF\":1664381164,\"XAG\":1664381164,\"XAU\":1664381164,\"XCD\":1664381164,\"XDR\":1664381164,\"XOF\":1664381164,\"XPF\":1664381164,\"YER\":1664381164,\"ZAR\":1664381164,\"ZMK\":1664381164,\"ZMW\":1664381164,\"ZWL\":1664381164},\"base\":{\"AED\":\"EUR\",\"AFN\":\"EUR\",\"ALL\":\"EUR\",\"AMD\":\"EUR\",\"ANG\":\"EUR\",\"AOA\":\"EUR\",\"ARS\":\"EUR\",\"AUD\":\"EUR\",\"AWG\":\"EUR\",\"AZN\":\"EUR\",\"BAM\":\"EUR\",\"BBD\":\"EUR\",\"BDT\":\"EUR\",\"BGN\":\"EUR\",\"BHD\":\"EUR\",\"BIF\":\"EUR\",\"BMD\":\"EUR\",\"BND\":\"EUR\",\"BOB\":\"EUR\",\"BRL\":\"EUR\",\"BSD\":\"EUR\",\"BTC\":\"EUR\",\"BTN\":\"EUR\",\"BWP\":\"EUR\",\"BYN\":\"EUR\",\"BYR\":\"EUR\",\"BZD\":\"EUR\",\"CAD\":\"EUR\",\"CDF\":\"EUR\",\"CHF\":\"EUR\",\"CLF\":\"EUR\",\"CLP\":\"EUR\",\"CNY\":\"EUR\",\"COP\":\"EUR\",\"CRC\":\"EUR\",\"CUC\":\"EUR\",\"CUP\":\"EUR\",\"CVE\":\"EUR\",\"CZK\":\"EUR\",\"DJF\":\"EUR\",\"DKK\":\"EUR\",\"DOP\":\"EUR\",\"DZD\":\"EUR\",\"EGP\":\"EUR\",\"ERN\":\"EUR\",\"ETB\":\"EUR\",\"EUR\":\"EUR\",\"FJD\":\"EUR\",\"FKP\":\"EUR\",\"GBP\":\"EUR\",\"GEL\":\"EUR\",\"GGP\":\"EUR\",\"GHS\":\"EUR\",\"GIP\":\"EUR\",\"GMD\":\"EUR\",\"GNF\":\"EUR\",\"GTQ\":\"EUR\",\"GYD\":\"EUR\",\"HKD\":\"EUR\",\"HNL\":\"EUR\",\"HRK\":\"EUR\",\"HTG\":\"EUR\",\"HUF\":\"EUR\",\"IDR\":\"EUR\",\"ILS\":\"EUR\",\"IMP\":\"EUR\",\"INR\":\"EUR\",\"IQD\":\"EUR\",\"IRR\":\"EUR\",\"ISK\":\"EUR\",\"JEP\":\"EUR\",\"JMD\":\"EUR\",\"JOD\":\"EUR\",\"JPY\":\"EUR\",\"KES\":\"EUR\",\"KGS\":\"EUR\",\"KHR\":\"EUR\",\"KMF\":\"EUR\",\"KPW\":\"EUR\",\"KRW\":\"EUR\",\"KWD\":\"EUR\",\"KYD\":\"EUR\",\"KZT\":\"EUR\",\"LAK\":\"EUR\",\"LBP\":\"EUR\",\"LKR\":\"EUR\",\"LRD\":\"EUR\",\"LSL\":\"EUR\",\"LTL\":\"EUR\",\"LVL\":\"EUR\",\"LYD\":\"EUR\",\"MAD\":\"EUR\",\"MDL\":\"EUR\",\"MGA\":\"EUR\",\"MKD\":\"EUR\",\"MMK\":\"EUR\",\"MNT\":\"EUR\",\"MOP\":\"EUR\",\"MRO\":\"EUR\",\"MUR\":\"EUR\",\"MVR\":\"EUR\",\"MWK\":\"EUR\",\"MXN\":\"EUR\",\"MYR\":\"EUR\",\"MZN\":\"EUR\",\"NAD\":\"EUR\",\"NGN\":\"EUR\",\"NIO\":\"EUR\",\"NOK\":\"EUR\",\"NPR\":\"EUR\",\"NZD\":\"EUR\",\"OMR\":\"EUR\",\"PAB\":\"EUR\",\"PEN\":\"EUR\",\"PGK\":\"EUR\",\"PHP\":\"EUR\",\"PKR\":\"EUR\",\"PLN\":\"EUR\",\"PYG\":\"EUR\",\"QAR\":\"EUR\",\"RON\":\"EUR\",\"RSD\":\"EUR\",\"RUB\":\"EUR\",\"RWF\":\"EUR\",\"SAR\":\"EUR\",\"SBD\":\"EUR\",\"SCR\":\"EUR\",\"SDG\":\"EUR\",\"SEK\":\"EUR\",\"SGD\":\"EUR\",\"SHP\":\"EUR\",\"SLL\":\"EUR\",\"SOS\":\"EUR\",\"SRD\":\"EUR\",\"STD\":\"EUR\",\"SVC\":\"EUR\",\"SYP\":\"EUR\",\"SZL\":\"EUR\",\"THB\":\"EUR\",\"TJS\":\"EUR\",\"TMT\":\"EUR\",\"TND\":\"EUR\",\"TOP\":\"EUR\",\"TRY\":\"EUR\",\"TTD\":\"EUR\",\"TWD\":\"EUR\",\"TZS\":\"EUR\",\"UAH\":\"EUR\",\"UGX\":\"EUR\",\"USD\":\"EUR\",\"UYU\":\"EUR\",\"UZS\":\"EUR\",\"VND\":\"EUR\",\"VUV\":\"EUR\",\"WST\":\"EUR\",\"XAF\":\"EUR\",\"XAG\":\"EUR\",\"XAU\":\"EUR\",\"XCD\":\"EUR\",\"XDR\":\"EUR\",\"XOF\":\"EUR\",\"XPF\":\"EUR\",\"YER\":\"EUR\",\"ZAR\":\"EUR\",\"ZMK\":\"EUR\",\"ZMW\":\"EUR\",\"ZWL\":\"EUR\"},\"date\":{\"AED\":\"2022-09-28\",\"AFN\":\"2022-09-28\",\"ALL\":\"2022-09-28\",\"AMD\":\"2022-09-28\",\"ANG\":\"2022-09-28\",\"AOA\":\"2022-09-28\",\"ARS\":\"2022-09-28\",\"AUD\":\"2022-09-28\",\"AWG\":\"2022-09-28\",\"AZN\":\"2022-09-28\",\"BAM\":\"2022-09-28\",\"BBD\":\"2022-09-28\",\"BDT\":\"2022-09-28\",\"BGN\":\"2022-09-28\",\"BHD\":\"2022-09-28\",\"BIF\":\"2022-09-28\",\"BMD\":\"2022-09-28\",\"BND\":\"2022-09-28\",\"BOB\":\"2022-09-28\",\"BRL\":\"2022-09-28\",\"BSD\":\"2022-09-28\",\"BTC\":\"2022-09-28\",\"BTN\":\"2022-09-28\",\"BWP\":\"2022-09-28\",\"BYN\":\"2022-09-28\",\"BYR\":\"2022-09-28\",\"BZD\":\"2022-09-28\",\"CAD\":\"2022-09-28\",\"CDF\":\"2022-09-28\",\"CHF\":\"2022-09-28\",\"CLF\":\"2022-09-28\",\"CLP\":\"2022-09-28\",\"CNY\":\"2022-09-28\",\"COP\":\"2022-09-28\",\"CRC\":\"2022-09-28\",\"CUC\":\"2022-09-28\",\"CUP\":\"2022-09-28\",\"CVE\":\"2022-09-28\",\"CZK\":\"2022-09-28\",\"DJF\":\"2022-09-28\",\"DKK\":\"2022-09-28\",\"DOP\":\"2022-09-28\",\"DZD\":\"2022-09-28\",\"EGP\":\"2022-09-28\",\"ERN\":\"2022-09-28\",\"ETB\":\"2022-09-28\",\"EUR\":\"2022-09-28\",\"FJD\":\"2022-09-28\",\"FKP\":\"2022-09-28\",\"GBP\":\"2022-09-28\",\"GEL\":\"2022-09-28\",\"GGP\":\"2022-09-28\",\"GHS\":\"2022-09-28\",\"GIP\":\"2022-09-28\",\"GMD\":\"2022-09-28\",\"GNF\":\"2022-09-28\",\"GTQ\":\"2022-09-28\",\"GYD\":\"2022-09-28\",\"HKD\":\"2022-09-28\",\"HNL\":\"2022-09-28\",\"HRK\":\"2022-09-28\",\"HTG\":\"2022-09-28\",\"HUF\":\"2022-09-28\",\"IDR\":\"2022-09-28\",\"ILS\":\"2022-09-28\",\"IMP\":\"2022-09-28\",\"INR\":\"2022-09-28\",\"IQD\":\"2022-09-28\",\"IRR\":\"2022-09-28\",\"ISK\":\"2022-09-28\",\"JEP\":\"2022-09-28\",\"JMD\":\"2022-09-28\",\"JOD\":\"2022-09-28\",\"JPY\":\"2022-09-28\",\"KES\":\"2022-09-28\",\"KGS\":\"2022-09-28\",\"KHR\":\"2022-09-28\",\"KMF\":\"2022-09-28\",\"KPW\":\"2022-09-28\",\"KRW\":\"2022-09-28\",\"KWD\":\"2022-09-28\",\"KYD\":\"2022-09-28\",\"KZT\":\"2022-09-28\",\"LAK\":\"2022-09-28\",\"LBP\":\"2022-09-28\",\"LKR\":\"2022-09-28\",\"LRD\":\"2022-09-28\",\"LSL\":\"2022-09-28\",\"LTL\":\"2022-09-28\",\"LVL\":\"2022-09-28\",\"LYD\":\"2022-09-28\",\"MAD\":\"2022-09-28\",\"MDL\":\"2022-09-28\",\"MGA\":\"2022-09-28\",\"MKD\":\"2022-09-28\",\"MMK\":\"2022-09-28\",\"MNT\":\"2022-09-28\",\"MOP\":\"2022-09-28\",\"MRO\":\"2022-09-28\",\"MUR\":\"2022-09-28\",\"MVR\":\"2022-09-28\",\"MWK\":\"2022-09-28\",\"MXN\":\"2022-09-28\",\"MYR\":\"2022-09-28\",\"MZN\":\"2022-09-28\",\"NAD\":\"2022-09-28\",\"NGN\":\"2022-09-28\",\"NIO\":\"2022-09-28\",\"NOK\":\"2022-09-28\",\"NPR\":\"2022-09-28\",\"NZD\":\"2022-09-28\",\"OMR\":\"2022-09-28\",\"PAB\":\"2022-09-28\",\"PEN\":\"2022-09-28\",\"PGK\":\"2022-09-28\",\"PHP\":\"2022-09-28\",\"PKR\":\"2022-09-28\",\"PLN\":\"2022-09-28\",\"PYG\":\"2022-09-28\",\"QAR\":\"2022-09-28\",\"RON\":\"2022-09-28\",\"RSD\":\"2022-09-28\",\"RUB\":\"2022-09-28\",\"RWF\":\"2022-09-28\",\"SAR\":\"2022-09-28\",\"SBD\":\"2022-09-28\",\"SCR\":\"2022-09-28\",\"SDG\":\"2022-09-28\",\"SEK\":\"2022-09-28\",\"SGD\":\"2022-09-28\",\"SHP\":\"2022-09-28\",\"SLL\":\"2022-09-28\",\"SOS\":\"2022-09-28\",\"SRD\":\"2022-09-28\",\"STD\":\"2022-09-28\",\"SVC\":\"2022-09-28\",\"SYP\":\"2022-09-28\",\"SZL\":\"2022-09-28\",\"THB\":\"2022-09-28\",\"TJS\":\"2022-09-28\",\"TMT\":\"2022-09-28\",\"TND\":\"2022-09-28\",\"TOP\":\"2022-09-28\",\"TRY\":\"2022-09-28\",\"TTD\":\"2022-09-28\",\"TWD\":\"2022-09-28\",\"TZS\":\"2022-09-28\",\"UAH\":\"2022-09-28\",\"UGX\":\"2022-09-28\",\"USD\":\"2022-09-28\",\"UYU\":\"2022-09-28\",\"UZS\":\"2022-09-28\",\"VND\":\"2022-09-28\",\"VUV\":\"2022-09-28\",\"WST\":\"2022-09-28\",\"XAF\":\"2022-09-28\",\"XAG\":\"2022-09-28\",\"XAU\":\"2022-09-28\",\"XCD\":\"2022-09-28\",\"XDR\":\"2022-09-28\",\"XOF\":\"2022-09-28\",\"XPF\":\"2022-09-28\",\"YER\":\"2022-09-28\",\"ZAR\":\"2022-09-28\",\"ZMK\":\"2022-09-28\",\"ZMW\":\"2022-09-28\",\"ZWL\":\"2022-09-28\"},\"rates\":{\"AED\":3.561465,\"AFN\":85.325266,\"ALL\":116.936993,\"AMD\":395.638474,\"ANG\":1.750683,\"AOA\":419.710621,\"ARS\":142.384283,\"AUD\":1.488498,\"AWG\":1.745294,\"AZN\":1.645678,\"BAM\":1.984344,\"BBD\":1.961323,\"BDT\":99.594694,\"BGN\":1.955213,\"BHD\":0.365786,\"BIF\":1985.27166,\"BMD\":0.969608,\"BND\":1.40467,\"BOB\":6.712391,\"BRL\":5.189729,\"BSD\":0.971378,\"BTC\":0.0000496518,\"BTN\":79.563883,\"BWP\":13.021717,\"BYN\":2.452377,\"BYR\":19004.309906,\"BZD\":1.958056,\"CAD\":1.322433,\"CDF\":1985.756386,\"CHF\":0.945751,\"CLF\":0.033713,\"CLP\":929.853477,\"CNY\":6.981658,\"COP\":4346.760783,\"CRC\":615.189399,\"CUC\":0.969608,\"CUP\":25.694603,\"CVE\":111.383684,\"CZK\":24.646461,\"DJF\":172.938585,\"DKK\":7.435873,\"DOP\":51.784839,\"DZD\":138.047464,\"EGP\":18.940297,\"ERN\":14.544115,\"ETB\":50.952988,\"EUR\":1.0,\"FJD\":2.222389,\"FKP\":0.838319,\"GBP\":0.893358,\"GEL\":2.748863,\"GGP\":0.838319,\"GHS\":10.035256,\"GIP\":0.838319,\"GMD\":53.691975,\"GNF\":8479.219146,\"GTQ\":7.622143,\"GYD\":203.233481,\"HKD\":7.611202,\"HNL\":23.891384,\"HRK\":7.532111,\"HTG\":118.025782,\"HUF\":413.171135,\"IDR\":14740.557234,\"ILS\":3.420936,\"IMP\":0.838319,\"INR\":79.015558,\"IQD\":1416.596774,\"IRR\":41062.883641,\"ISK\":140.08901,\"JEP\":0.838319,\"JMD\":147.396271,\"JOD\":0.687446,\"JPY\":139.7287,\"KES\":117.07999,\"KGS\":77.827401,\"KHR\":4001.570687,\"KMF\":497.626868,\"KPW\":872.646927,\"KRW\":1382.801118,\"KWD\":0.300872,\"KYD\":0.809439,\"KZT\":463.514755,\"LAK\":15964.589879,\"LBP\":1470.894433,\"LKR\":353.5781,\"LRD\":148.838054,\"LSL\":17.462391,\"LTL\":2.863,\"LVL\":0.586506,\"LYD\":4.896629,\"MAD\":10.740831,\"MDL\":18.990982,\"MGA\":4047.142342,\"MKD\":62.514912,\"MMK\":2039.883477,\"MNT\":3126.443679,\"MOP\":7.853915,\"MRO\":346.149764,\"MUR\":43.966039,\"MVR\":14.99001,\"MWK\":993.847699,\"MXN\":19.676257,\"MYR\":4.470837,\"MZN\":61.890435,\"NAD\":17.462752,\"NGN\":418.220789,\"NIO\":34.886405,\"NOK\":10.382244,\"NPR\":127.299589,\"NZD\":1.698995,\"OMR\":0.373242,\"PAB\":0.971373,\"PEN\":3.828492,\"PGK\":3.412877,\"PHP\":57.055109,\"PKR\":229.554472,\"PLN\":4.810275,\"PYG\":6825.889307,\"QAR\":3.530308,\"RON\":4.948006,\"RSD\":117.254535,\"RUB\":56.673641,\"RWF\":1009.361562,\"SAR\":3.652097,\"SBD\":7.915296,\"SCR\":13.93335,\"SDG\":559.949073,\"SEK\":10.865312,\"SGD\":1.393011,\"SHP\":1.335535,\"SLL\":14786.516295,\"SOS\":551.706455,\"SRD\":27.417111,\"STD\":20068.920689,\"SVC\":8.49926,\"SYP\":2436.168612,\"SZL\":17.462749,\"THB\":36.790832,\"TJS\":9.54449,\"TMT\":3.403323,\"TND\":3.219123,\"TOP\":2.360804,\"TRY\":17.952768,\"TTD\":6.593582,\"TWD\":30.774866,\"TZS\":2265.328315,\"UAH\":35.700819,\"UGX\":3765.141533,\"USD\":0.969608,\"UYU\":40.017261,\"UZS\":10702.042218,\"VND\":23018.48557,\"VUV\":115.346346,\"WST\":2.642741,\"XAF\":665.513139,\"XAG\":0.051605,\"XAU\":0.000584,\"XCD\":2.620413,\"XDR\":0.763771,\"XOF\":658.842985,\"XPF\":120.570564,\"YER\":242.740966,\"ZAR\":17.300661,\"ZMK\":8727.634025,\"ZMW\":15.299502,\"ZWL\":312.213267}}'"
      ]
     },
     "execution_count": 30,
     "metadata": {},
     "output_type": "execute_result"
    }
   ],
   "source": [
    "# Save the Dataframe\n",
    "exchange_rates_1 = data2.to_csv()\n",
    "exchange_rates_1"
   ]
  },
  {
   "cell_type": "markdown",
   "metadata": {},
   "source": [
    "Your CSV should be in this format with more currencies\n",
    "\n",
    "|     | Rates      |\n",
    "| --- | ---------- |\n",
    "| AED | 4.398618   |\n",
    "| AFN | 92.917693  |\n",
    "| ALL | 123.099093 |\n",
    "| AMD | 621.935674 |\n",
    "| ANG | 2.149648   |\n"
   ]
  },
  {
   "cell_type": "markdown",
   "metadata": {},
   "source": [
    "## Authors\n"
   ]
  },
  {
   "cell_type": "markdown",
   "metadata": {},
   "source": [
    "Ramesh Sannareddy, Joseph Santarcangelo and Azim Hirjani\n"
   ]
  },
  {
   "cell_type": "markdown",
   "metadata": {},
   "source": [
    "### Other Contributors\n"
   ]
  },
  {
   "cell_type": "markdown",
   "metadata": {},
   "source": [
    "Rav Ahuja\n"
   ]
  },
  {
   "cell_type": "markdown",
   "metadata": {},
   "source": [
    "## Change Log\n"
   ]
  },
  {
   "cell_type": "markdown",
   "metadata": {},
   "source": [
    "| Date (YYYY-MM-DD) | Version | Changed By        | Change Description                              |\n",
    "| ----------------- | ------- | ----------------- | ----------------------------------------------- |\n",
    "| 2022-05-06        | 0.3     | Malika            | Updated instructions to get the API and the url |\n",
    "| 2021-04-15        | 0.2     | Malika            | Updated the lab from USD to EUR                 |\n",
    "| 2020-11-25        | 0.1     | Ramesh Sannareddy | Created initial version of the lab              |\n"
   ]
  },
  {
   "cell_type": "markdown",
   "metadata": {},
   "source": [
    "Copyright © 2020 IBM Corporation. This notebook and its source code are released under the terms of the [MIT License](https://cognitiveclass.ai/mit-license?utm_medium=Exinfluencer&utm_source=Exinfluencer&utm_content=000026UJ&utm_term=10006555&utm_id=NA-SkillsNetwork-Channel-SkillsNetworkCoursesIBMDeveloperSkillsNetworkPY0221ENSkillsNetwork23455645-2022-01-01&cm_mmc=Email_Newsletter-\\_-Developer_Ed%2BTech-\\_-WW_WW-\\_-SkillsNetwork-Courses-IBM-DA0321EN-SkillsNetwork-21426264&cm_mmca1=000026UJ&cm_mmca2=10006555&cm_mmca3=M12345678&cvosrc=email.Newsletter.M12345678&cvo_campaign=000026UJ).\n"
   ]
  }
 ],
 "metadata": {
  "kernelspec": {
   "display_name": "Python",
   "language": "python",
   "name": "conda-env-python-py"
  },
  "language_info": {
   "codemirror_mode": {
    "name": "ipython",
    "version": 3
   },
   "file_extension": ".py",
   "mimetype": "text/x-python",
   "name": "python",
   "nbconvert_exporter": "python",
   "pygments_lexer": "ipython3",
   "version": "3.7.12"
  }
 },
 "nbformat": 4,
 "nbformat_minor": 4
}
